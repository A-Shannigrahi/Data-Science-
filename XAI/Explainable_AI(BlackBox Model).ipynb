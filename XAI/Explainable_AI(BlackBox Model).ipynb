{
 "cells": [
  {
   "cell_type": "code",
   "execution_count": 34,
   "id": "cdbe7992",
   "metadata": {},
   "outputs": [],
   "source": [
    "import pandas as pd\n",
    "import matplotlib.pyplot as plt\n",
    "from sklearn.ensemble import RandomForestClassifier\n",
    "from sklearn.metrics import f1_score, accuracy_score\n",
    "from interpret.blackbox import LimeTabular\n",
    "from interpret import show\n",
    "import numpy as np"
   ]
  },
  {
   "cell_type": "code",
   "execution_count": 35,
   "id": "b885d066",
   "metadata": {},
   "outputs": [],
   "source": [
    "dataset=pd.read_csv(\"healthcare-dataset-stroke-data.csv\")"
   ]
  },
  {
   "cell_type": "code",
   "execution_count": 36,
   "id": "603131f6",
   "metadata": {},
   "outputs": [],
   "source": [
    "\n",
    "categorical_cols = [\"gender\",\"ever_married\",\"work_type\",\"Residence_type\",\"smoking_status\"]\n",
    "encoded = pd.get_dummies(dataset[categorical_cols])\n"
   ]
  },
  {
   "cell_type": "code",
   "execution_count": 37,
   "id": "4636e312",
   "metadata": {},
   "outputs": [],
   "source": [
    "dataset = pd.concat([encoded, dataset], axis=1)\n",
    "dataset.drop(categorical_cols, axis=1, inplace=True)\n",
    "dataset.bmi = dataset.bmi.fillna(dataset['bmi'].mean())\n",
    "dataset.drop([\"id\"], axis=1, inplace=True)"
   ]
  },
  {
   "cell_type": "code",
   "execution_count": 38,
   "id": "680294d2",
   "metadata": {},
   "outputs": [],
   "source": [
    "x= dataset.iloc[:,:-1]\n",
    "y= dataset.iloc[:,-1]"
   ]
  },
  {
   "cell_type": "code",
   "execution_count": 39,
   "id": "230cf812",
   "metadata": {},
   "outputs": [],
   "source": [
    "from sklearn.model_selection import train_test_split\n",
    "x_train, x_test, y_train, y_test = train_test_split(x, y, test_size = 0.2, random_state = 0)"
   ]
  },
  {
   "cell_type": "code",
   "execution_count": 40,
   "id": "5be356b1",
   "metadata": {},
   "outputs": [],
   "source": [
    "from imblearn.over_sampling import RandomOverSampler\n",
    "oversample = RandomOverSampler(sampling_strategy='minority')\n",
    "x_np = x_train.to_numpy()\n",
    "y_np = y_train.to_numpy()\n",
    "x_np, y_np = oversample.fit_resample(x_np, y_np)\n",
    "x_over = pd.DataFrame(x_np, columns=x_train.columns)\n",
    "y_over = pd.Series(y_np, name=y_train.name)\n",
    "        "
   ]
  },
  {
   "cell_type": "code",
   "execution_count": 41,
   "id": "0aa77dcf",
   "metadata": {},
   "outputs": [],
   "source": [
    "x_train=x_over.values\n",
    "y_train=y_over.values"
   ]
  },
  {
   "cell_type": "markdown",
   "id": "6fcb62ca",
   "metadata": {},
   "source": [
    "Random Forest Classifier"
   ]
  },
  {
   "cell_type": "code",
   "execution_count": 42,
   "id": "ed18eac2",
   "metadata": {},
   "outputs": [
    {
     "name": "stdout",
     "output_type": "stream",
     "text": [
      "F1 Score 0.5160984848484849\n",
      "Accuracy 0.9412915851272016\n"
     ]
    },
    {
     "name": "stderr",
     "output_type": "stream",
     "text": [
      "C:\\Users\\abhin\\anaconda3\\lib\\site-packages\\sklearn\\base.py:443: UserWarning:\n",
      "\n",
      "X has feature names, but RandomForestClassifier was fitted without feature names\n",
      "\n"
     ]
    }
   ],
   "source": [
    "rf = RandomForestClassifier()\n",
    "rf.fit(x_train, y_train)\n",
    "y_pred = rf.predict(x_test)\n",
    "print(f\"F1 Score {f1_score(y_test, y_pred, average='macro')}\")\n",
    "print(f\"Accuracy {accuracy_score(y_test, y_pred)}\")"
   ]
  },
  {
   "cell_type": "code",
   "execution_count": 43,
   "id": "12b66c58",
   "metadata": {},
   "outputs": [],
   "source": [
    "lime = LimeTabular(predict_fn=rf.predict_proba, \n",
    "                   data=x_train, \n",
    "                   random_state=1)"
   ]
  },
  {
   "cell_type": "code",
   "execution_count": 44,
   "id": "6059ae5e",
   "metadata": {},
   "outputs": [
    {
     "data": {
      "text/html": [
       "<!-- http://127.0.0.1:7001/2236678733936/ -->\n",
       "<iframe src=\"http://127.0.0.1:7001/2236678733936/\" width=100% height=800 frameBorder=\"0\"></iframe>"
      ]
     },
     "metadata": {},
     "output_type": "display_data"
    }
   ],
   "source": [
    "lime_local = lime.explain_local(x_test[-10:], \n",
    "                                y_test[-10:], \n",
    "                                name='LIME')\n",
    "\n",
    "show(lime_local)"
   ]
  },
  {
   "cell_type": "code",
   "execution_count": null,
   "id": "20d9aee6",
   "metadata": {},
   "outputs": [],
   "source": []
  }
 ],
 "metadata": {
  "kernelspec": {
   "display_name": "Python 3 (ipykernel)",
   "language": "python",
   "name": "python3"
  },
  "language_info": {
   "codemirror_mode": {
    "name": "ipython",
    "version": 3
   },
   "file_extension": ".py",
   "mimetype": "text/x-python",
   "name": "python",
   "nbconvert_exporter": "python",
   "pygments_lexer": "ipython3",
   "version": "3.9.12"
  }
 },
 "nbformat": 4,
 "nbformat_minor": 5
}
