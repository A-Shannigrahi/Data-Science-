{
 "cells": [
  {
   "cell_type": "markdown",
   "metadata": {},
   "source": [
    "# Relevant Libraries"
   ]
  },
  {
   "cell_type": "code",
   "execution_count": 2,
   "metadata": {},
   "outputs": [],
   "source": [
    "import pandas as pd               \n",
    "import numpy as np               \n",
    "import matplotlib.pyplot as plt   \n",
    "import seaborn as sns             \n",
    "sns.set()"
   ]
  },
  {
   "cell_type": "markdown",
   "metadata": {},
   "source": [
    "# Importing Data"
   ]
  },
  {
   "cell_type": "code",
   "execution_count": 4,
   "metadata": {},
   "outputs": [],
   "source": [
    "dataset_train=pd.read_csv(\"google_stock_price_details.csv\")\n",
    "train_set=dataset_train.iloc[:,1:2].values"
   ]
  },
  {
   "cell_type": "markdown",
   "metadata": {},
   "source": [
    "Historical Stock Data of Google"
   ]
  },
  {
   "cell_type": "markdown",
   "metadata": {},
   "source": [
    "Begining- January 2010"
   ]
  },
  {
   "cell_type": "markdown",
   "metadata": {},
   "source": [
    "Ending- June 2020"
   ]
  },
  {
   "cell_type": "code",
   "execution_count": 5,
   "metadata": {},
   "outputs": [
    {
     "data": {
      "text/html": [
       "<div>\n",
       "<style scoped>\n",
       "    .dataframe tbody tr th:only-of-type {\n",
       "        vertical-align: middle;\n",
       "    }\n",
       "\n",
       "    .dataframe tbody tr th {\n",
       "        vertical-align: top;\n",
       "    }\n",
       "\n",
       "    .dataframe thead th {\n",
       "        text-align: right;\n",
       "    }\n",
       "</style>\n",
       "<table border=\"1\" class=\"dataframe\">\n",
       "  <thead>\n",
       "    <tr style=\"text-align: right;\">\n",
       "      <th></th>\n",
       "      <th>Date</th>\n",
       "      <th>Open</th>\n",
       "      <th>High</th>\n",
       "      <th>Low</th>\n",
       "      <th>Close</th>\n",
       "      <th>Adj Close</th>\n",
       "      <th>Volume</th>\n",
       "    </tr>\n",
       "  </thead>\n",
       "  <tbody>\n",
       "    <tr>\n",
       "      <th>0</th>\n",
       "      <td>2010-01-04</td>\n",
       "      <td>312.304413</td>\n",
       "      <td>313.579620</td>\n",
       "      <td>310.954468</td>\n",
       "      <td>312.204773</td>\n",
       "      <td>312.204773</td>\n",
       "      <td>3927000</td>\n",
       "    </tr>\n",
       "    <tr>\n",
       "      <th>1</th>\n",
       "      <td>2010-01-05</td>\n",
       "      <td>312.418976</td>\n",
       "      <td>312.747742</td>\n",
       "      <td>309.609497</td>\n",
       "      <td>310.829926</td>\n",
       "      <td>310.829926</td>\n",
       "      <td>6031900</td>\n",
       "    </tr>\n",
       "    <tr>\n",
       "      <th>2</th>\n",
       "      <td>2010-01-06</td>\n",
       "      <td>311.761444</td>\n",
       "      <td>311.761444</td>\n",
       "      <td>302.047852</td>\n",
       "      <td>302.994293</td>\n",
       "      <td>302.994293</td>\n",
       "      <td>7987100</td>\n",
       "    </tr>\n",
       "    <tr>\n",
       "      <th>3</th>\n",
       "      <td>2010-01-07</td>\n",
       "      <td>303.562164</td>\n",
       "      <td>303.861053</td>\n",
       "      <td>295.218445</td>\n",
       "      <td>295.940735</td>\n",
       "      <td>295.940735</td>\n",
       "      <td>12876600</td>\n",
       "    </tr>\n",
       "    <tr>\n",
       "      <th>4</th>\n",
       "      <td>2010-01-08</td>\n",
       "      <td>294.894653</td>\n",
       "      <td>300.498657</td>\n",
       "      <td>293.455048</td>\n",
       "      <td>299.885956</td>\n",
       "      <td>299.885956</td>\n",
       "      <td>9483900</td>\n",
       "    </tr>\n",
       "  </tbody>\n",
       "</table>\n",
       "</div>"
      ],
      "text/plain": [
       "         Date        Open        High         Low       Close   Adj Close  \\\n",
       "0  2010-01-04  312.304413  313.579620  310.954468  312.204773  312.204773   \n",
       "1  2010-01-05  312.418976  312.747742  309.609497  310.829926  310.829926   \n",
       "2  2010-01-06  311.761444  311.761444  302.047852  302.994293  302.994293   \n",
       "3  2010-01-07  303.562164  303.861053  295.218445  295.940735  295.940735   \n",
       "4  2010-01-08  294.894653  300.498657  293.455048  299.885956  299.885956   \n",
       "\n",
       "     Volume  \n",
       "0   3927000  \n",
       "1   6031900  \n",
       "2   7987100  \n",
       "3  12876600  \n",
       "4   9483900  "
      ]
     },
     "execution_count": 5,
     "metadata": {},
     "output_type": "execute_result"
    }
   ],
   "source": [
    "dataset_train.head(5)  "
   ]
  },
  {
   "cell_type": "code",
   "execution_count": 6,
   "metadata": {},
   "outputs": [
    {
     "data": {
      "text/html": [
       "<div>\n",
       "<style scoped>\n",
       "    .dataframe tbody tr th:only-of-type {\n",
       "        vertical-align: middle;\n",
       "    }\n",
       "\n",
       "    .dataframe tbody tr th {\n",
       "        vertical-align: top;\n",
       "    }\n",
       "\n",
       "    .dataframe thead th {\n",
       "        text-align: right;\n",
       "    }\n",
       "</style>\n",
       "<table border=\"1\" class=\"dataframe\">\n",
       "  <thead>\n",
       "    <tr style=\"text-align: right;\">\n",
       "      <th></th>\n",
       "      <th>Date</th>\n",
       "      <th>Open</th>\n",
       "      <th>High</th>\n",
       "      <th>Low</th>\n",
       "      <th>Close</th>\n",
       "      <th>Adj Close</th>\n",
       "      <th>Volume</th>\n",
       "    </tr>\n",
       "  </thead>\n",
       "  <tbody>\n",
       "    <tr>\n",
       "      <th>2635</th>\n",
       "      <td>2020-06-23</td>\n",
       "      <td>1455.640015</td>\n",
       "      <td>1475.941040</td>\n",
       "      <td>1445.23999</td>\n",
       "      <td>1464.410034</td>\n",
       "      <td>1464.410034</td>\n",
       "      <td>1429800</td>\n",
       "    </tr>\n",
       "    <tr>\n",
       "      <th>2636</th>\n",
       "      <td>2020-06-24</td>\n",
       "      <td>1461.510010</td>\n",
       "      <td>1475.420044</td>\n",
       "      <td>1429.75000</td>\n",
       "      <td>1431.969971</td>\n",
       "      <td>1431.969971</td>\n",
       "      <td>1756000</td>\n",
       "    </tr>\n",
       "    <tr>\n",
       "      <th>2637</th>\n",
       "      <td>2020-06-25</td>\n",
       "      <td>1429.900024</td>\n",
       "      <td>1442.900024</td>\n",
       "      <td>1420.00000</td>\n",
       "      <td>1441.329956</td>\n",
       "      <td>1441.329956</td>\n",
       "      <td>1230500</td>\n",
       "    </tr>\n",
       "    <tr>\n",
       "      <th>2638</th>\n",
       "      <td>2020-06-26</td>\n",
       "      <td>1431.390015</td>\n",
       "      <td>1433.449951</td>\n",
       "      <td>1351.98999</td>\n",
       "      <td>1359.900024</td>\n",
       "      <td>1359.900024</td>\n",
       "      <td>4267700</td>\n",
       "    </tr>\n",
       "    <tr>\n",
       "      <th>2639</th>\n",
       "      <td>2020-06-29</td>\n",
       "      <td>1358.180054</td>\n",
       "      <td>1395.599976</td>\n",
       "      <td>1347.01001</td>\n",
       "      <td>1394.969971</td>\n",
       "      <td>1394.969971</td>\n",
       "      <td>1810200</td>\n",
       "    </tr>\n",
       "  </tbody>\n",
       "</table>\n",
       "</div>"
      ],
      "text/plain": [
       "            Date         Open         High         Low        Close  \\\n",
       "2635  2020-06-23  1455.640015  1475.941040  1445.23999  1464.410034   \n",
       "2636  2020-06-24  1461.510010  1475.420044  1429.75000  1431.969971   \n",
       "2637  2020-06-25  1429.900024  1442.900024  1420.00000  1441.329956   \n",
       "2638  2020-06-26  1431.390015  1433.449951  1351.98999  1359.900024   \n",
       "2639  2020-06-29  1358.180054  1395.599976  1347.01001  1394.969971   \n",
       "\n",
       "        Adj Close   Volume  \n",
       "2635  1464.410034  1429800  \n",
       "2636  1431.969971  1756000  \n",
       "2637  1441.329956  1230500  \n",
       "2638  1359.900024  4267700  \n",
       "2639  1394.969971  1810200  "
      ]
     },
     "execution_count": 6,
     "metadata": {},
     "output_type": "execute_result"
    }
   ],
   "source": [
    "dataset_train.tail(5)  "
   ]
  },
  {
   "cell_type": "code",
   "execution_count": 8,
   "metadata": {},
   "outputs": [
    {
     "data": {
      "image/png": "[encoded data removed]",
      "text/plain": [
       "<Figure size 720x720 with 1 Axes>"
      ]
     },
     "metadata": {},
     "output_type": "display_data"
    }
   ],
   "source": [
    "plt.figure(figsize=(10,10))         \n",
    "plt.plot(dataset_train[\"Open\"],color=\"orange\") \n",
    "plt.show()"
   ]
  },
  {
   "cell_type": "markdown",
   "metadata": {},
   "source": [
    "# Scaling"
   ]
  },
  {
   "cell_type": "code",
   "execution_count": 9,
   "metadata": {},
   "outputs": [],
   "source": [
    "from sklearn.preprocessing import MinMaxScaler\n",
    "sc=MinMaxScaler(feature_range=(0,1))\n",
    "scaled_train_set=sc.fit_transform(train_set)"
   ]
  },
  {
   "cell_type": "markdown",
   "metadata": {},
   "source": [
    "In case of Stocks it is preferred to implement Normalization and not Standardization"
   ]
  },
  {
   "cell_type": "markdown",
   "metadata": {},
   "source": [
    "# Adding Memory of previous prices "
   ]
  },
  {
   "cell_type": "markdown",
   "metadata": {},
   "source": [
    "A special data structure is created which indicates at a particular time T the neural network will analyse the 60 previos stock prices"
   ]
  },
  {
   "cell_type": "markdown",
   "metadata": {},
   "source": [
    "60 previous stock prices indicates all business days in last 3 months"
   ]
  },
  {
   "cell_type": "markdown",
   "metadata": {},
   "source": [
    "Care must be taken to prevent overfitting"
   ]
  },
  {
   "cell_type": "code",
   "execution_count": 10,
   "metadata": {},
   "outputs": [],
   "source": [
    "x_train=[]  \n",
    "y_train=[]  "
   ]
  },
  {
   "cell_type": "code",
   "execution_count": 11,
   "metadata": {},
   "outputs": [],
   "source": [
    "for i in range(60,2640):\n",
    "    x_train.append(scaled_train_set[i-60:i,0])\n",
    "    y_train.append(scaled_train_set[i,0])"
   ]
  },
  {
   "cell_type": "code",
   "execution_count": 12,
   "metadata": {},
   "outputs": [],
   "source": [
    "x_train,y_train=np.array(x_train),np.array(y_train) "
   ]
  },
  {
   "cell_type": "markdown",
   "metadata": {},
   "source": [
    "# Reshaping"
   ]
  },
  {
   "cell_type": "code",
   "execution_count": 13,
   "metadata": {},
   "outputs": [
    {
     "data": {
      "text/plain": [
       "(2580, 60)"
      ]
     },
     "execution_count": 13,
     "metadata": {},
     "output_type": "execute_result"
    }
   ],
   "source": [
    "x_train.shape"
   ]
  },
  {
   "cell_type": "code",
   "execution_count": 14,
   "metadata": {},
   "outputs": [],
   "source": [
    "x_train=np.reshape(x_train,(x_train.shape[0],x_train.shape[1],1))"
   ]
  },
  {
   "cell_type": "code",
   "execution_count": 15,
   "metadata": {},
   "outputs": [
    {
     "data": {
      "text/plain": [
       "(2580, 60, 1)"
      ]
     },
     "execution_count": 15,
     "metadata": {},
     "output_type": "execute_result"
    }
   ],
   "source": [
    "x_train.shape"
   ]
  },
  {
   "cell_type": "markdown",
   "metadata": {},
   "source": [
    "There is only 1 indicator being used-Open Stock Price"
   ]
  },
  {
   "cell_type": "markdown",
   "metadata": {},
   "source": [
    "# Importing Keras (Deep Learning)"
   ]
  },
  {
   "cell_type": "code",
   "execution_count": 16,
   "metadata": {},
   "outputs": [],
   "source": [
    "from keras.models import Sequential\n",
    "from keras.layers import Dense\n",
    "from keras.layers import LSTM\n",
    "from keras.layers import Dropout"
   ]
  },
  {
   "cell_type": "markdown",
   "metadata": {},
   "source": [
    "Sequential - to create neural network object"
   ]
  },
  {
   "cell_type": "markdown",
   "metadata": {},
   "source": [
    "Dense -fully connected layer"
   ]
  },
  {
   "cell_type": "markdown",
   "metadata": {},
   "source": [
    "Dropout-to add dropout regularization to avoid overfitting"
   ]
  },
  {
   "cell_type": "markdown",
   "metadata": {},
   "source": [
    "# Building Recurrent Neural Network"
   ]
  },
  {
   "cell_type": "code",
   "execution_count": 17,
   "metadata": {},
   "outputs": [],
   "source": [
    "regressor = Sequential()   ##initialising rnn"
   ]
  },
  {
   "cell_type": "markdown",
   "metadata": {},
   "source": [
    "# First LSTM layer"
   ]
  },
  {
   "cell_type": "code",
   "execution_count": 18,
   "metadata": {},
   "outputs": [],
   "source": [
    "regressor.add(LSTM(units = 50, return_sequences = True, input_shape = (x_train.shape[1], 1)))\n",
    "regressor.add(Dropout(0.2))\n",
    "\n"
   ]
  },
  {
   "cell_type": "markdown",
   "metadata": {},
   "source": [
    "return_sequences :"
   ]
  },
  {
   "cell_type": "markdown",
   "metadata": {},
   "source": [
    "True - output something at each individual step"
   ]
  },
  {
   "cell_type": "markdown",
   "metadata": {},
   "source": [
    "False- single vector output"
   ]
  },
  {
   "cell_type": "markdown",
   "metadata": {},
   "source": [
    "# Second LSTM layer"
   ]
  },
  {
   "cell_type": "code",
   "execution_count": 19,
   "metadata": {},
   "outputs": [],
   "source": [
    "regressor.add(LSTM(units = 50, return_sequences = True))\n",
    "regressor.add(Dropout(0.2))"
   ]
  },
  {
   "cell_type": "markdown",
   "metadata": {},
   "source": [
    "dropout: rate of neurons to be ignored in each iteration"
   ]
  },
  {
   "cell_type": "markdown",
   "metadata": {},
   "source": [
    "# Third LSTM layer"
   ]
  },
  {
   "cell_type": "code",
   "execution_count": 20,
   "metadata": {},
   "outputs": [],
   "source": [
    "regressor.add(LSTM(units = 50, return_sequences = True))\n",
    "regressor.add(Dropout(0.2))"
   ]
  },
  {
   "cell_type": "markdown",
   "metadata": {},
   "source": [
    "# Fourth LSTM layer"
   ]
  },
  {
   "cell_type": "code",
   "execution_count": 21,
   "metadata": {},
   "outputs": [],
   "source": [
    "regressor.add(LSTM(units = 50))\n",
    "regressor.add(Dropout(0.2))"
   ]
  },
  {
   "cell_type": "markdown",
   "metadata": {},
   "source": [
    "# Output Layer"
   ]
  },
  {
   "cell_type": "code",
   "execution_count": 22,
   "metadata": {},
   "outputs": [],
   "source": [
    "regressor.add(Dense(units = 1))"
   ]
  },
  {
   "cell_type": "markdown",
   "metadata": {},
   "source": [
    "LSTM -Long Short Term Memory"
   ]
  },
  {
   "cell_type": "markdown",
   "metadata": {},
   "source": [
    "LSTM is required to prevent vanishing gradient problem"
   ]
  },
  {
   "cell_type": "markdown",
   "metadata": {},
   "source": [
    "# Compilation"
   ]
  },
  {
   "cell_type": "code",
   "execution_count": 23,
   "metadata": {},
   "outputs": [],
   "source": [
    "regressor.compile(optimizer = 'adam', loss = 'mean_squared_error')"
   ]
  },
  {
   "cell_type": "markdown",
   "metadata": {},
   "source": [
    "adam is a very powerful optimizer"
   ]
  },
  {
   "cell_type": "markdown",
   "metadata": {},
   "source": [
    "rmsprop or adagrad can be also used"
   ]
  },
  {
   "cell_type": "markdown",
   "metadata": {},
   "source": [
    "mean_squared error is used for regression"
   ]
  },
  {
   "cell_type": "markdown",
   "metadata": {},
   "source": [
    "cross_entropy_loss is used in classification"
   ]
  },
  {
   "cell_type": "markdown",
   "metadata": {},
   "source": [
    "# Fitting the Model"
   ]
  },
  {
   "cell_type": "code",
   "execution_count": 24,
   "metadata": {},
   "outputs": [
    {
     "name": "stdout",
     "output_type": "stream",
     "text": [
      "Epoch 1/50\n",
      "81/81 [==============================] - 13s 162ms/step - loss: 0.0157\n",
      "Epoch 2/50\n",
      "81/81 [==============================] - 13s 159ms/step - loss: 0.0030\n",
      "Epoch 3/50\n",
      "81/81 [==============================] - 13s 160ms/step - loss: 0.0029\n",
      "Epoch 4/50\n",
      "81/81 [==============================] - 13s 160ms/step - loss: 0.0028\n",
      "Epoch 5/50\n",
      "81/81 [==============================] - 13s 158ms/step - loss: 0.0026\n",
      "Epoch 6/50\n",
      "81/81 [==============================] - 13s 160ms/step - loss: 0.0024\n",
      "Epoch 7/50\n",
      "81/81 [==============================] - 13s 159ms/step - loss: 0.0021\n",
      "Epoch 8/50\n",
      "81/81 [==============================] - 13s 160ms/step - loss: 0.0020\n",
      "Epoch 9/50\n",
      "81/81 [==============================] - 13s 159ms/step - loss: 0.0019\n",
      "Epoch 10/50\n",
      "81/81 [==============================] - 13s 159ms/step - loss: 0.0019\n",
      "Epoch 11/50\n",
      "81/81 [==============================] - 13s 160ms/step - loss: 0.0020\n",
      "Epoch 12/50\n",
      "81/81 [==============================] - 13s 159ms/step - loss: 0.0018\n",
      "Epoch 13/50\n",
      "81/81 [==============================] - 13s 160ms/step - loss: 0.0017\n",
      "Epoch 14/50\n",
      "81/81 [==============================] - 13s 158ms/step - loss: 0.0017\n",
      "Epoch 15/50\n",
      "81/81 [==============================] - 13s 159ms/step - loss: 0.0016\n",
      "Epoch 16/50\n",
      "81/81 [==============================] - 13s 160ms/step - loss: 0.0016\n",
      "Epoch 17/50\n",
      "81/81 [==============================] - 13s 159ms/step - loss: 0.0017\n",
      "Epoch 18/50\n",
      "81/81 [==============================] - 13s 160ms/step - loss: 0.0014\n",
      "Epoch 19/50\n",
      "81/81 [==============================] - 13s 157ms/step - loss: 0.0020\n",
      "Epoch 20/50\n",
      "81/81 [==============================] - 13s 157ms/step - loss: 0.0016\n",
      "Epoch 21/50\n",
      "81/81 [==============================] - 13s 160ms/step - loss: 0.0014\n",
      "Epoch 22/50\n",
      "81/81 [==============================] - 13s 157ms/step - loss: 0.0014\n",
      "Epoch 23/50\n",
      "81/81 [==============================] - 13s 157ms/step - loss: 0.0013\n",
      "Epoch 24/50\n",
      "81/81 [==============================] - 13s 157ms/step - loss: 0.0014\n",
      "Epoch 25/50\n",
      "81/81 [==============================] - 13s 157ms/step - loss: 0.0013\n",
      "Epoch 26/50\n",
      "81/81 [==============================] - 13s 159ms/step - loss: 0.0014\n",
      "Epoch 27/50\n",
      "81/81 [==============================] - 13s 158ms/step - loss: 0.0014\n",
      "Epoch 28/50\n",
      "81/81 [==============================] - 13s 157ms/step - loss: 0.0012\n",
      "Epoch 29/50\n",
      "81/81 [==============================] - 13s 158ms/step - loss: 0.0013\n",
      "Epoch 30/50\n",
      "81/81 [==============================] - 13s 157ms/step - loss: 0.0013\n",
      "Epoch 31/50\n",
      "81/81 [==============================] - 13s 159ms/step - loss: 0.0012\n",
      "Epoch 32/50\n",
      "81/81 [==============================] - 13s 157ms/step - loss: 0.0013\n",
      "Epoch 33/50\n",
      "81/81 [==============================] - 13s 158ms/step - loss: 0.0012\n",
      "Epoch 34/50\n",
      "81/81 [==============================] - 13s 157ms/step - loss: 0.0012\n",
      "Epoch 35/50\n",
      "81/81 [==============================] - 13s 159ms/step - loss: 0.0013\n",
      "Epoch 36/50\n",
      "81/81 [==============================] - 13s 164ms/step - loss: 0.0011\n",
      "Epoch 37/50\n",
      "81/81 [==============================] - 13s 159ms/step - loss: 0.0010\n",
      "Epoch 38/50\n",
      "81/81 [==============================] - 13s 156ms/step - loss: 0.0011\n",
      "Epoch 39/50\n",
      "81/81 [==============================] - 13s 160ms/step - loss: 0.0011\n",
      "Epoch 40/50\n",
      "81/81 [==============================] - 13s 158ms/step - loss: 0.0011\n",
      "Epoch 41/50\n",
      "81/81 [==============================] - 13s 157ms/step - loss: 0.0011\n",
      "Epoch 42/50\n",
      "81/81 [==============================] - 13s 156ms/step - loss: 0.0011\n",
      "Epoch 43/50\n",
      "81/81 [==============================] - 12s 153ms/step - loss: 0.0011\n",
      "Epoch 44/50\n",
      "81/81 [==============================] - 12s 153ms/step - loss: 0.0012\n",
      "Epoch 45/50\n",
      "81/81 [==============================] - 13s 155ms/step - loss: 0.0011\n",
      "Epoch 46/50\n",
      "81/81 [==============================] - 12s 146ms/step - loss: 9.8548e-04\n",
      "Epoch 47/50\n",
      "81/81 [==============================] - 12s 145ms/step - loss: 9.9656e-04\n",
      "Epoch 48/50\n",
      "81/81 [==============================] - 11s 138ms/step - loss: 9.6225e-04\n",
      "Epoch 49/50\n",
      "81/81 [==============================] - 11s 140ms/step - loss: 0.0011\n",
      "Epoch 50/50\n",
      "81/81 [==============================] - 12s 145ms/step - loss: 0.0010\n"
     ]
    },
    {
     "data": {
      "text/plain": [
       "<tensorflow.python.keras.callbacks.History at 0x272e3c11088>"
      ]
     },
     "execution_count": 24,
     "metadata": {},
     "output_type": "execute_result"
    }
   ],
   "source": [
    "regressor.fit(x_train, y_train, epochs = 50, batch_size = 32) "
   ]
  },
  {
   "cell_type": "markdown",
   "metadata": {},
   "source": [
    "32 weight updates per iteration"
   ]
  },
  {
   "cell_type": "markdown",
   "metadata": {},
   "source": [
    "number of iterations is 50"
   ]
  },
  {
   "cell_type": "markdown",
   "metadata": {},
   "source": [
    "# Test Data"
   ]
  },
  {
   "cell_type": "code",
   "execution_count": 25,
   "metadata": {},
   "outputs": [],
   "source": [
    "dataset_test = pd.read_csv('july_20_google_price.csv') \n",
    "actual_price= dataset_test.iloc[:, 1:2].values"
   ]
  },
  {
   "cell_type": "markdown",
   "metadata": {},
   "source": [
    "# Formatting Test Inputs"
   ]
  },
  {
   "cell_type": "code",
   "execution_count": 26,
   "metadata": {},
   "outputs": [],
   "source": [
    "dataset_total = pd.concat((dataset_train['Open'], dataset_test['Open']), axis = 0)\n",
    "inputs = dataset_total[len(dataset_total) - len(dataset_test) - 60:].values\n",
    "inputs = inputs.reshape(-1,1)\n",
    "inputs = sc.transform(inputs)   "
   ]
  },
  {
   "cell_type": "code",
   "execution_count": 27,
   "metadata": {},
   "outputs": [],
   "source": [
    "x_test = []\n",
    "for i in range(60, 80):\n",
    "    x_test.append(inputs[i-60:i, 0])\n",
    "x_test = np.array(x_test)\n",
    "x_test = np.reshape(x_test, (x_test.shape[0], x_test.shape[1], 1))"
   ]
  },
  {
   "cell_type": "markdown",
   "metadata": {},
   "source": [
    "# Model Prediction"
   ]
  },
  {
   "cell_type": "code",
   "execution_count": 28,
   "metadata": {},
   "outputs": [],
   "source": [
    "predicted_price = regressor.predict(x_test)\n",
    "predicted_price = sc.inverse_transform(predicted_price)   "
   ]
  },
  {
   "cell_type": "markdown",
   "metadata": {},
   "source": [
    "# Data Visualization"
   ]
  },
  {
   "cell_type": "code",
   "execution_count": 29,
   "metadata": {},
   "outputs": [
    {
     "data": {
      "image/png": "[encoded data removed]",
      "text/plain": [
       "<Figure size 432x288 with 1 Axes>"
      ]
     },
     "metadata": {},
     "output_type": "display_data"
    }
   ],
   "source": [
    "plt.plot(actual_price, color = 'red', label = 'Actual Price')\n",
    "plt.plot(predicted_price, color = 'blue', label = 'Predicted  Price')\n",
    "plt.title('Google Stock Price Prediction')\n",
    "plt.xlabel('Time')\n",
    "plt.ylabel('Google Stock Price')\n",
    "plt.legend()\n",
    "plt.show()"
   ]
  },
  {
   "cell_type": "code",
   "execution_count": null,
   "metadata": {},
   "outputs": [],
   "source": []
  }
 ],
 "metadata": {
  "kernelspec": {
   "display_name": "Python [conda env:py3-TF2.0]",
   "language": "python",
   "name": "conda-env-py3-TF2.0-py"
  },
  "language_info": {
   "codemirror_mode": {
    "name": "ipython",
    "version": 3
   },
   "file_extension": ".py",
   "mimetype": "text/x-python",
   "name": "python",
   "nbconvert_exporter": "python",
   "pygments_lexer": "ipython3",
   "version": "3.7.7"
  }
 },
 "nbformat": 4,
 "nbformat_minor": 4
}
